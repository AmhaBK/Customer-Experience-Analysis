{
 "cells": [
  {
   "cell_type": "code",
   "execution_count": 5,
   "id": "7ff6c3f8",
   "metadata": {},
   "outputs": [],
   "source": [
    "# Load the cleaned data\n",
    "\n",
    "import pandas as pd\n",
    "\n",
    "reviews = pd.read_csv('../data/cleaned_reviews.csv', parse_dates=[\"date\"])\n",
    "\n",
    "# Drop rows with missing values\n",
    "\n",
    "reviews.dropna(inplace=True)"
   ]
  },
  {
   "cell_type": "code",
   "execution_count": 6,
   "id": "2b865a88",
   "metadata": {},
   "outputs": [
    {
     "name": "stdout",
     "output_type": "stream",
     "text": [
      "                                              review  rating bank  \\\n",
      "0                         So bad now and hard to use       5  CBE   \n",
      "1  it is so amazing app. but, it is better to upd...       5  CBE   \n",
      "2                                         v.good app       4  CBE   \n",
      "3                                      very good app       1  CBE   \n",
      "4           Very amazing app indeed. I'm enjoying it       5  CBE   \n",
      "\n",
      "        source       date                                   processed_review  \n",
      "0  Google Play 2025-06-09                                       bad hard use  \n",
      "1  Google Play 2025-06-09  amazing app better update access without inter...  \n",
      "2  Google Play 2025-06-09                                                app  \n",
      "3  Google Play 2025-06-09                                           good app  \n",
      "4  Google Play 2025-06-08                        amazing app indeed enjoying  \n",
      "review                      object\n",
      "rating                       int64\n",
      "bank                        object\n",
      "source                      object\n",
      "date                datetime64[ns]\n",
      "processed_review            object\n",
      "dtype: object\n",
      "<class 'pandas.core.frame.DataFrame'>\n",
      "Index: 1164 entries, 0 to 1182\n",
      "Data columns (total 6 columns):\n",
      " #   Column            Non-Null Count  Dtype         \n",
      "---  ------            --------------  -----         \n",
      " 0   review            1164 non-null   object        \n",
      " 1   rating            1164 non-null   int64         \n",
      " 2   bank              1164 non-null   object        \n",
      " 3   source            1164 non-null   object        \n",
      " 4   date              1164 non-null   datetime64[ns]\n",
      " 5   processed_review  1164 non-null   object        \n",
      "dtypes: datetime64[ns](1), int64(1), object(4)\n",
      "memory usage: 63.7+ KB\n",
      "None\n",
      "            rating                           date\n",
      "count  1164.000000                           1164\n",
      "mean      3.691581  2025-02-11 13:12:59.381443328\n",
      "min       1.000000            2024-05-26 00:00:00\n",
      "25%       1.000000            2024-12-30 00:00:00\n",
      "50%       5.000000            2025-03-31 00:00:00\n",
      "75%       5.000000            2025-04-22 00:00:00\n",
      "max       5.000000            2025-06-09 00:00:00\n",
      "std       1.724907                            NaN\n",
      "review              0\n",
      "rating              0\n",
      "bank                0\n",
      "source              0\n",
      "date                0\n",
      "processed_review    0\n",
      "dtype: int64\n"
     ]
    }
   ],
   "source": [
    "reviews.shape\n",
    "print(reviews.head())\n",
    "\n",
    "# Data types\n",
    "print(reviews.dtypes)\n",
    "\n",
    "# Info\n",
    "print(reviews.info())\n",
    "\n",
    "# Describe summary statistics\n",
    "print(reviews.describe())\n",
    "\n",
    "#Check for missing values\n",
    "print(reviews.isna().sum())"
   ]
  },
  {
   "cell_type": "code",
   "execution_count": 7,
   "id": "6014c3a3",
   "metadata": {},
   "outputs": [
    {
     "name": "stdout",
     "output_type": "stream",
     "text": [
      "bank    vader_sentiment\n",
      "BOA     positive           156\n",
      "        neutral            128\n",
      "        negative           114\n",
      "CBE     positive           243\n",
      "        neutral            106\n",
      "        negative            37\n",
      "Dashen  positive           285\n",
      "        neutral             76\n",
      "        negative            19\n",
      "Name: count, dtype: int64\n"
     ]
    }
   ],
   "source": [
    "# Sentiment analysis using Vader\n",
    "\n",
    "from vaderSentiment.vaderSentiment import SentimentIntensityAnalyzer\n",
    "\n",
    "# Initialize VADER\n",
    "analyzer = SentimentIntensityAnalyzer()\n",
    "\n",
    "# Define a function to label sentiment\n",
    "def get_vader_sentiment(text):\n",
    "    score = analyzer.polarity_scores(text)['compound']\n",
    "    if score >= 0.05:\n",
    "        return 'positive'\n",
    "    elif score <= -0.05:\n",
    "        return 'negative'\n",
    "    else:\n",
    "        return 'neutral'\n",
    "\n",
    "# Apply to each review\n",
    "reviews['vader_sentiment'] = reviews['processed_review'].apply(get_vader_sentiment)\n",
    "\n",
    "# Display sentiment distribution\n",
    "print(reviews.groupby('bank')['vader_sentiment'].value_counts())"
   ]
  },
  {
   "cell_type": "code",
   "execution_count": 8,
   "id": "8d84416a",
   "metadata": {},
   "outputs": [
    {
     "name": "stdout",
     "output_type": "stream",
     "text": [
      "bank    textblob_sentiment\n",
      "BOA     positive              159\n",
      "        neutral               136\n",
      "        negative              103\n",
      "CBE     positive              238\n",
      "        neutral               120\n",
      "        negative               28\n",
      "Dashen  positive              281\n",
      "        neutral                72\n",
      "        negative               27\n",
      "Name: count, dtype: int64\n"
     ]
    }
   ],
   "source": [
    "# Sentiment analysis using TextBlob\n",
    "\n",
    "from textblob import TextBlob\n",
    "\n",
    "def get_sentiment(text):\n",
    "    analysis = TextBlob(text)\n",
    "    if analysis.sentiment.polarity > 0:\n",
    "        return 'positive'\n",
    "    elif analysis.sentiment.polarity < 0:\n",
    "        return 'negative'\n",
    "    else:\n",
    "        return 'neutral'\n",
    "\n",
    "# Apply sentiment analysis\n",
    "reviews['textblob_sentiment'] = reviews['processed_review'].apply(get_sentiment)\n",
    "\n",
    "# Display sentiment distribution\n",
    "print(reviews.groupby('bank')['textblob_sentiment'].value_counts())"
   ]
  }
 ],
 "metadata": {
  "kernelspec": {
   "display_name": "Python 3",
   "language": "python",
   "name": "python3"
  },
  "language_info": {
   "codemirror_mode": {
    "name": "ipython",
    "version": 3
   },
   "file_extension": ".py",
   "mimetype": "text/x-python",
   "name": "python",
   "nbconvert_exporter": "python",
   "pygments_lexer": "ipython3",
   "version": "3.13.0"
  }
 },
 "nbformat": 4,
 "nbformat_minor": 5
}
